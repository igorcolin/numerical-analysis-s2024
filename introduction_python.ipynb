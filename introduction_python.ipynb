{
 "cells": [
  {
   "cell_type": "markdown",
   "id": "bdea7dd3",
   "metadata": {},
   "source": [
    "* * *\n",
    "<pre> NYU Paris            <i> Numerical Analysis - Spring 2024 </i></pre>\n",
    "* * *\n",
    "\n",
    "\n",
    "<h1 align=\"center\"> Recitation 1: Introduction to Python </h1>\n",
    "\n",
    "<pre align=\"left\"> January 25th 2024               <i> Author: Hicham Janati & Igor Colin </i></pre>\n",
    "* * *\n",
    "\n",
    "\n",
    "##### Goals:\n",
    "- Have a working Python / Jupyter environment with packages installed\n",
    "- Know where to look for information: external resources & documentation\n",
    "- Discover core packages of the Python ecosystem:\n",
    "    1. `Numpy` for scientific computing\n",
    "    2. `Matplotlib` for plotting and visualization"
   ]
  },
  {
   "cell_type": "markdown",
   "id": "503e0e14",
   "metadata": {},
   "source": [
    "# 1 - Getting started with Jupyter\n",
    "1. Anaconda is a large Python distribution software that includes  several Python packages and tools and simplifies their management. If you do not have it installed on your laptop go over to <a href=https://docs.anaconda.com/anaconda/install/>the official documentation</a> and follow the OS dependent installation guidelines.\n",
    "2. Create a labs folder for the Python labs of this course. For me, this path is `/Users/igor/teaching/nyu/labs`. Download the notebook `introduction_python.ipynb` from [here](https://aiteachings.github.io/NYU-AI-Fall23/lectures/) and save it in that folder.\n",
    "3. Now we need to launch Jupyter from the labs folder. To do so, open the Anaconda Terminal (Anaconda Prompt). A command line window should pop up. If you are not familiar with line commands, for our purposes all you need to know is:\n",
    "* Know what folder your terminal is in: `pwd` (print working directory) for Linux/Mac | `cd` for windows.\n",
    "* List the content of the current folder: `ls` for Linux/Mac | `dir` for Windows.\n",
    "* Change the current folder: `cd` followed by the subfolder you want to go to. Below, we complete the path with `work/teaching/NYU/code`:\n",
    "\n",
    "![terminal-screenshot](img/terminal.png)\n",
    "\n",
    "4. Now launch Jupyter by running: `jupyter notebook` which should open the browser. You should be able to access and run this notebook."
   ]
  },
  {
   "cell_type": "markdown",
   "id": "0055616d",
   "metadata": {},
   "source": [
    "# 2 - Getting started: Python in Jupyter"
   ]
  },
  {
   "cell_type": "markdown",
   "id": "6d7348aa",
   "metadata": {},
   "source": [
    "## 2.1 running cells and magic commands\n",
    "The following Python cell is a naive loop that stores the first 10 million numbers. Click-on then hit `Shift+Enter` to run it."
   ]
  },
  {
   "cell_type": "code",
   "execution_count": 1,
   "id": "93cfb019",
   "metadata": {},
   "outputs": [
    {
     "name": "stdout",
     "output_type": "stream",
     "text": [
      "The total is 49999995000000\n",
      "CPU times: user 576 ms, sys: 68 ms, total: 644 ms\n",
      "Wall time: 644 ms\n"
     ]
    }
   ],
   "source": [
    "%%time\n",
    "\n",
    "N = 10_000_000 # underscores in whole numbers are ignored by Python\n",
    "\n",
    "numbers = []  # create an empty list\n",
    "for ii in range(N):\n",
    "    numbers.append(ii) # add the number to the list\n",
    "total = sum(numbers)\n",
    "\n",
    "print(f\"The total is {total}\")"
   ]
  },
  {
   "cell_type": "markdown",
   "id": "3ebe69a2",
   "metadata": {},
   "source": [
    "The `%%time` in the beginning of the cell is called a _magic command_ that keeps track of the time it took the CPU to run the entire cell. Magic commands with one percentage apply for one lines only:"
   ]
  },
  {
   "cell_type": "code",
   "execution_count": 2,
   "id": "51770043",
   "metadata": {},
   "outputs": [
    {
     "name": "stdout",
     "output_type": "stream",
     "text": [
      "The total is 49999995000000\n",
      "CPU times: user 224 ms, sys: 139 ms, total: 362 ms\n",
      "Wall time: 362 ms\n"
     ]
    }
   ],
   "source": [
    "%time print(\"The total is\", sum([ii for ii in range(N)]))"
   ]
  },
  {
   "cell_type": "markdown",
   "id": "c8405ab1",
   "metadata": {},
   "source": [
    "\n",
    "### Question 1: \n",
    "Lists created with loops from within are this one are called _list comprehensions_.\n",
    "Can you guess why is this list comprehension 2x faster than the classic loop above ?"
   ]
  },
  {
   "cell_type": "code",
   "execution_count": null,
   "id": "6e5b1e53",
   "metadata": {},
   "outputs": [],
   "source": []
  },
  {
   "cell_type": "markdown",
   "id": "1b48100f",
   "metadata": {},
   "source": [
    "## 2.3 Jupyter cells: code, markdown and shortcuts"
   ]
  },
  {
   "cell_type": "markdown",
   "id": "61fa3a3c",
   "metadata": {},
   "source": [
    "One of the main advantages of Jupyter is the ability to alternate between text cells (such as the one you are reading right now) and Python cells. Double-click on this text to edit it. Press `Shift + Enter` to leave Edit Mode."
   ]
  },
  {
   "cell_type": "markdown",
   "id": "f8e96344",
   "metadata": {},
   "source": [
    "Text cells are actually *Markdown* cells. Markdown is a _super_ light formatting language. As you probably noticed by editing some of these cells, **double asterisks make text bold**, while _underscores make text italic_. But I digress, Markdown is a long story for another day, check [the documentation](https://www.markdownguide.org/getting-started/) for more. More importantly, here is how to create one:"
   ]
  },
  {
   "cell_type": "markdown",
   "id": "cea0a47d",
   "metadata": {},
   "source": [
    "1. Enable the _command mode_ by hitting `Esc`. Command mode in Jupyter makes the cursor disappear.\n",
    "2. Press `M` to switch from code to Markdown\n",
    "3. Or press `Y` to switch from Markdown to code.\n",
    "\n",
    "Several other shortcuts exist in the _command mode_. The ones I usually are:\n",
    "1. `A` to add a new cell above\n",
    "2. `B` to add a new cell below\n",
    "3. `Enter` to go into Edit Mode and edit a cell\n",
    "4. `H` to open the help and check all other shortcuts\n",
    "\n",
    "Keep in mind these shortcuts only work in Command Mode (i.e after pressing `Esc`)."
   ]
  },
  {
   "cell_type": "markdown",
   "id": "da297f80",
   "metadata": {},
   "source": [
    "## 2.3 The Numpy library"
   ]
  },
  {
   "cell_type": "markdown",
   "id": "ff7b5ee2",
   "metadata": {},
   "source": [
    "#### Speed and vectorization"
   ]
  },
  {
   "cell_type": "markdown",
   "id": "4ed217ab",
   "metadata": {},
   "source": [
    "Let's write code performing the same counting operation above but using the `Numpy` library. "
   ]
  },
  {
   "cell_type": "code",
   "execution_count": 3,
   "id": "98251479",
   "metadata": {},
   "outputs": [],
   "source": [
    "import numpy as np"
   ]
  },
  {
   "cell_type": "code",
   "execution_count": 4,
   "id": "3bf34d5f",
   "metadata": {},
   "outputs": [
    {
     "name": "stdout",
     "output_type": "stream",
     "text": [
      "The total is 49999995000000\n",
      "CPU times: user 86.9 ms, sys: 28.5 ms, total: 115 ms\n",
      "Wall time: 114 ms\n"
     ]
    }
   ],
   "source": [
    "%%time\n",
    "N = 10_000_000\n",
    "numbers = np.arange(N)  # creates an array of integers from 0 to N-1\n",
    "total = numbers.sum()   # sums the array\n",
    "print(f\"The total is {total}\")"
   ]
  },
  {
   "cell_type": "markdown",
   "id": "bafb7713",
   "metadata": {},
   "source": [
    "As you can see `Numpy` is 3x faster than list comprensions and code is much shorter. `Numpy` should always be preferred to native Python lists when dealing with nothing but numbers and matrices. `Numpy` vectorizes operations: instead of going through the elements one by one as in a for loop, operations are applied at the same time."
   ]
  },
  {
   "cell_type": "markdown",
   "id": "c1e45e31",
   "metadata": {},
   "source": [
    "The dot product between two arrays x, y of length n is given by: $<x, y> = x^{\\top} y = \\sum_{i=1}^n x_i y_i$. \n",
    "\n",
    "### Question 2:\n",
    "Complete the following cells to compare the speed of dot products using native loops vs the numpy operation `result = x.dot(y)`."
   ]
  },
  {
   "cell_type": "code",
   "execution_count": 5,
   "id": "43e855b0",
   "metadata": {},
   "outputs": [
    {
     "ename": "SyntaxError",
     "evalue": "invalid syntax (37206399.py, line 7)",
     "output_type": "error",
     "traceback": [
      "\u001b[0;36m  Cell \u001b[0;32mIn[5], line 7\u001b[0;36m\u001b[0m\n\u001b[0;31m    result_loops =   ### TO DO\u001b[0m\n\u001b[0m                     ^\u001b[0m\n\u001b[0;31mSyntaxError\u001b[0m\u001b[0;31m:\u001b[0m invalid syntax\n"
     ]
    }
   ],
   "source": [
    "## TO DO\n",
    "\n",
    "N = 10_000_000\n",
    "x = np.random.randn(N)  # creates a list of random numbers following the Gaussian bell curve distribution\n",
    "y = np.random.randn(N)\n",
    "\n",
    "result_loops =   ### TO DO\n",
    "\n",
    "### TO DO \n"
   ]
  },
  {
   "cell_type": "code",
   "execution_count": 6,
   "id": "524778e1",
   "metadata": {},
   "outputs": [
    {
     "ename": "SyntaxError",
     "evalue": "invalid syntax (1592493750.py, line 3)",
     "output_type": "error",
     "traceback": [
      "\u001b[0;36m  Cell \u001b[0;32mIn[6], line 3\u001b[0;36m\u001b[0m\n\u001b[0;31m    result_numpy =   # TODO\u001b[0m\n\u001b[0m                     ^\u001b[0m\n\u001b[0;31mSyntaxError\u001b[0m\u001b[0;31m:\u001b[0m invalid syntax\n"
     ]
    }
   ],
   "source": [
    "# TODO\n",
    "\n",
    "result_numpy =   # TODO\n",
    "print(result_numpy)"
   ]
  },
  {
   "cell_type": "markdown",
   "id": "0a28fcb9",
   "metadata": {},
   "source": [
    "#### Numpy slicing"
   ]
  },
  {
   "cell_type": "markdown",
   "id": "2c4eca41",
   "metadata": {},
   "source": [
    "Numpy offers a simple way to select subsets of the array called slicing. To get the slice from the 3-th to the 5-th element for instance:"
   ]
  },
  {
   "cell_type": "code",
   "execution_count": 7,
   "id": "69ecaf80",
   "metadata": {},
   "outputs": [
    {
     "name": "stdout",
     "output_type": "stream",
     "text": [
      "All the array:  [0 1 2 3 4 5 6 7 8 9]\n",
      "A slice:  [2 3 4]\n"
     ]
    }
   ],
   "source": [
    "x = np.arange(10)\n",
    "print(\"All the array: \", x)\n",
    "print(\"A slice: \", x[2:5])"
   ]
  },
  {
   "cell_type": "markdown",
   "id": "5de08577",
   "metadata": {},
   "source": [
    "Remember that Python starts indexing with 0 and that a slice [start:end] includes `start` but excludes `end`. If ommitted, `start` is set to 0, and `end` is the last index of the array. Picking the first 6 elements:"
   ]
  },
  {
   "cell_type": "code",
   "execution_count": 8,
   "id": "e70e7617",
   "metadata": {},
   "outputs": [
    {
     "data": {
      "text/plain": [
       "array([0, 1, 2, 3, 4, 5])"
      ]
     },
     "execution_count": 8,
     "metadata": {},
     "output_type": "execute_result"
    }
   ],
   "source": [
    "x[:6]"
   ]
  },
  {
   "cell_type": "markdown",
   "id": "76dedadc",
   "metadata": {},
   "source": [
    "To omit the last number, one can use negative indices. For example:"
   ]
  },
  {
   "cell_type": "code",
   "execution_count": 9,
   "id": "32ac740a",
   "metadata": {},
   "outputs": [
    {
     "data": {
      "text/plain": [
       "array([0, 1, 2, 3, 4, 5, 6, 7, 8])"
      ]
     },
     "execution_count": 9,
     "metadata": {},
     "output_type": "execute_result"
    }
   ],
   "source": [
    "x[:-1]"
   ]
  },
  {
   "cell_type": "code",
   "execution_count": 10,
   "id": "a82e09cd",
   "metadata": {},
   "outputs": [
    {
     "data": {
      "text/plain": [
       "array([0, 1, 2, 3, 4, 5, 6])"
      ]
     },
     "execution_count": 10,
     "metadata": {},
     "output_type": "execute_result"
    }
   ],
   "source": [
    "x[:-3]"
   ]
  },
  {
   "cell_type": "markdown",
   "id": "01fcd911",
   "metadata": {},
   "source": [
    "Slices can also have a third parameter which is a `step`. So far we omitted this argument which is by default equal to 1. Starting at 0, we can pick even indices by using a step of 2:"
   ]
  },
  {
   "cell_type": "code",
   "execution_count": 11,
   "id": "579de31e",
   "metadata": {},
   "outputs": [
    {
     "data": {
      "text/plain": [
       "array([0, 2, 4, 6, 8])"
      ]
     },
     "execution_count": 11,
     "metadata": {},
     "output_type": "execute_result"
    }
   ],
   "source": [
    "x[0:10:2]"
   ]
  },
  {
   "cell_type": "markdown",
   "id": "b3ab21b0",
   "metadata": {},
   "source": [
    "We can omit the start and end arguments since they are not doing anything:"
   ]
  },
  {
   "cell_type": "code",
   "execution_count": 12,
   "id": "160e89d5",
   "metadata": {},
   "outputs": [
    {
     "data": {
      "text/plain": [
       "array([0, 2, 4, 6, 8])"
      ]
     },
     "execution_count": 12,
     "metadata": {},
     "output_type": "execute_result"
    }
   ],
   "source": [
    "x[::2]"
   ]
  },
  {
   "cell_type": "markdown",
   "id": "edc27864",
   "metadata": {},
   "source": [
    "### Question 3:\n",
    "Create a slice that picks odd numbers in reverse order using one slice only."
   ]
  },
  {
   "cell_type": "code",
   "execution_count": null,
   "id": "449672cb",
   "metadata": {},
   "outputs": [],
   "source": []
  },
  {
   "cell_type": "markdown",
   "id": "594a6ae0",
   "metadata": {},
   "source": [
    "## 2.4 Matplotlib: plotting and visualization\n",
    "\n",
    "###### Example 1: curve plot\n",
    "We want to plot the function $f: x \\to x^2$ over the range $[-5, 5]$.\n",
    "To do so we create a regular grid of 1000 numbers in $[-5, 5]$ using the Numpy function `linspace`."
   ]
  },
  {
   "cell_type": "code",
   "execution_count": 13,
   "id": "2f156550",
   "metadata": {},
   "outputs": [
    {
     "data": {
      "image/png": "[encoded data removed]",
      "text/plain": [
       "<Figure size 300x300 with 1 Axes>"
      ]
     },
     "metadata": {},
     "output_type": "display_data"
    }
   ],
   "source": [
    "import matplotlib.pyplot as plt\n",
    "\n",
    "# we create our square function\n",
    "\n",
    "def f(x):\n",
    "    return x ** 2 # basic operations are applied element-wise to numpy arrays\n",
    "\n",
    "n = 1000\n",
    "x = np.linspace(-5, 5, n)\n",
    "fx = f(x) \n",
    "\n",
    "plt.figure(figsize=(3, 3))\n",
    "plt.plot(x, fx)\n",
    "plt.show()"
   ]
  },
  {
   "cell_type": "markdown",
   "id": "28d96924",
   "metadata": {},
   "source": [
    "We can improve the quality of this visualization by adding:\n",
    "- a grid\n",
    "- a title \n",
    "- labels for axes"
   ]
  },
  {
   "cell_type": "code",
   "execution_count": 14,
   "id": "eec39e6a",
   "metadata": {},
   "outputs": [
    {
     "data": {
      "image/png": "[encoded data removed]",
      "text/plain": [
       "<Figure size 300x300 with 1 Axes>"
      ]
     },
     "metadata": {},
     "output_type": "display_data"
    }
   ],
   "source": [
    "plt.figure(figsize=(3, 3))\n",
    "plt.plot(x, fx)\n",
    "plt.grid(True)\n",
    "plt.xlabel(\"x\")\n",
    "plt.ylabel(\"f(x)\")\n",
    "plt.title(\"Square function\")\n",
    "plt.show()"
   ]
  },
  {
   "cell_type": "markdown",
   "id": "a75889b0",
   "metadata": {},
   "source": [
    "### Question 4\n",
    "Assume you forgot what the function `np.linspace` takes as arguments. You can either:\n",
    "- Look up the Numpy documentation directly (numpy linspace search on google should immediately lead you to numpy.org) \n",
    "- Run the following cell to get the documentation window on Jupyter:"
   ]
  },
  {
   "cell_type": "code",
   "execution_count": 15,
   "id": "139ca04a",
   "metadata": {},
   "outputs": [
    {
     "data": {
      "text/plain": [
       "\u001b[0;31mSignature:\u001b[0m      \n",
       "\u001b[0mnp\u001b[0m\u001b[0;34m.\u001b[0m\u001b[0mlinspace\u001b[0m\u001b[0;34m(\u001b[0m\u001b[0;34m\u001b[0m\n",
       "\u001b[0;34m\u001b[0m    \u001b[0mstart\u001b[0m\u001b[0;34m,\u001b[0m\u001b[0;34m\u001b[0m\n",
       "\u001b[0;34m\u001b[0m    \u001b[0mstop\u001b[0m\u001b[0;34m,\u001b[0m\u001b[0;34m\u001b[0m\n",
       "\u001b[0;34m\u001b[0m    \u001b[0mnum\u001b[0m\u001b[0;34m=\u001b[0m\u001b[0;36m50\u001b[0m\u001b[0;34m,\u001b[0m\u001b[0;34m\u001b[0m\n",
       "\u001b[0;34m\u001b[0m    \u001b[0mendpoint\u001b[0m\u001b[0;34m=\u001b[0m\u001b[0;32mTrue\u001b[0m\u001b[0;34m,\u001b[0m\u001b[0;34m\u001b[0m\n",
       "\u001b[0;34m\u001b[0m    \u001b[0mretstep\u001b[0m\u001b[0;34m=\u001b[0m\u001b[0;32mFalse\u001b[0m\u001b[0;34m,\u001b[0m\u001b[0;34m\u001b[0m\n",
       "\u001b[0;34m\u001b[0m    \u001b[0mdtype\u001b[0m\u001b[0;34m=\u001b[0m\u001b[0;32mNone\u001b[0m\u001b[0;34m,\u001b[0m\u001b[0;34m\u001b[0m\n",
       "\u001b[0;34m\u001b[0m    \u001b[0maxis\u001b[0m\u001b[0;34m=\u001b[0m\u001b[0;36m0\u001b[0m\u001b[0;34m,\u001b[0m\u001b[0;34m\u001b[0m\n",
       "\u001b[0;34m\u001b[0m\u001b[0;34m)\u001b[0m\u001b[0;34m\u001b[0m\u001b[0;34m\u001b[0m\u001b[0m\n",
       "\u001b[0;31mCall signature:\u001b[0m  \u001b[0mnp\u001b[0m\u001b[0;34m.\u001b[0m\u001b[0mlinspace\u001b[0m\u001b[0;34m(\u001b[0m\u001b[0;34m*\u001b[0m\u001b[0margs\u001b[0m\u001b[0;34m,\u001b[0m \u001b[0;34m**\u001b[0m\u001b[0mkwargs\u001b[0m\u001b[0;34m)\u001b[0m\u001b[0;34m\u001b[0m\u001b[0;34m\u001b[0m\u001b[0m\n",
       "\u001b[0;31mType:\u001b[0m            _ArrayFunctionDispatcher\n",
       "\u001b[0;31mString form:\u001b[0m     <function linspace at 0x7fb9c51b2c00>\n",
       "\u001b[0;31mFile:\u001b[0m            ~/miniconda3/lib/python3.11/site-packages/numpy/core/function_base.py\n",
       "\u001b[0;31mDocstring:\u001b[0m      \n",
       "Return evenly spaced numbers over a specified interval.\n",
       "\n",
       "Returns `num` evenly spaced samples, calculated over the\n",
       "interval [`start`, `stop`].\n",
       "\n",
       "The endpoint of the interval can optionally be excluded.\n",
       "\n",
       ".. versionchanged:: 1.16.0\n",
       "    Non-scalar `start` and `stop` are now supported.\n",
       "\n",
       ".. versionchanged:: 1.20.0\n",
       "    Values are rounded towards ``-inf`` instead of ``0`` when an\n",
       "    integer ``dtype`` is specified. The old behavior can\n",
       "    still be obtained with ``np.linspace(start, stop, num).astype(int)``\n",
       "\n",
       "Parameters\n",
       "----------\n",
       "start : array_like\n",
       "    The starting value of the sequence.\n",
       "stop : array_like\n",
       "    The end value of the sequence, unless `endpoint` is set to False.\n",
       "    In that case, the sequence consists of all but the last of ``num + 1``\n",
       "    evenly spaced samples, so that `stop` is excluded.  Note that the step\n",
       "    size changes when `endpoint` is False.\n",
       "num : int, optional\n",
       "    Number of samples to generate. Default is 50. Must be non-negative.\n",
       "endpoint : bool, optional\n",
       "    If True, `stop` is the last sample. Otherwise, it is not included.\n",
       "    Default is True.\n",
       "retstep : bool, optional\n",
       "    If True, return (`samples`, `step`), where `step` is the spacing\n",
       "    between samples.\n",
       "dtype : dtype, optional\n",
       "    The type of the output array.  If `dtype` is not given, the data type\n",
       "    is inferred from `start` and `stop`. The inferred dtype will never be\n",
       "    an integer; `float` is chosen even if the arguments would produce an\n",
       "    array of integers.\n",
       "\n",
       "    .. versionadded:: 1.9.0\n",
       "\n",
       "axis : int, optional\n",
       "    The axis in the result to store the samples.  Relevant only if start\n",
       "    or stop are array-like.  By default (0), the samples will be along a\n",
       "    new axis inserted at the beginning. Use -1 to get an axis at the end.\n",
       "\n",
       "    .. versionadded:: 1.16.0\n",
       "\n",
       "Returns\n",
       "-------\n",
       "samples : ndarray\n",
       "    There are `num` equally spaced samples in the closed interval\n",
       "    ``[start, stop]`` or the half-open interval ``[start, stop)``\n",
       "    (depending on whether `endpoint` is True or False).\n",
       "step : float, optional\n",
       "    Only returned if `retstep` is True\n",
       "\n",
       "    Size of spacing between samples.\n",
       "\n",
       "\n",
       "See Also\n",
       "--------\n",
       "arange : Similar to `linspace`, but uses a step size (instead of the\n",
       "         number of samples).\n",
       "geomspace : Similar to `linspace`, but with numbers spaced evenly on a log\n",
       "            scale (a geometric progression).\n",
       "logspace : Similar to `geomspace`, but with the end points specified as\n",
       "           logarithms.\n",
       ":ref:`how-to-partition`\n",
       "\n",
       "Examples\n",
       "--------\n",
       ">>> np.linspace(2.0, 3.0, num=5)\n",
       "array([2.  , 2.25, 2.5 , 2.75, 3.  ])\n",
       ">>> np.linspace(2.0, 3.0, num=5, endpoint=False)\n",
       "array([2. ,  2.2,  2.4,  2.6,  2.8])\n",
       ">>> np.linspace(2.0, 3.0, num=5, retstep=True)\n",
       "(array([2.  ,  2.25,  2.5 ,  2.75,  3.  ]), 0.25)\n",
       "\n",
       "Graphical illustration:\n",
       "\n",
       ">>> import matplotlib.pyplot as plt\n",
       ">>> N = 8\n",
       ">>> y = np.zeros(N)\n",
       ">>> x1 = np.linspace(0, 10, N, endpoint=True)\n",
       ">>> x2 = np.linspace(0, 10, N, endpoint=False)\n",
       ">>> plt.plot(x1, y, 'o')\n",
       "[<matplotlib.lines.Line2D object at 0x...>]\n",
       ">>> plt.plot(x2, y + 0.5, 'o')\n",
       "[<matplotlib.lines.Line2D object at 0x...>]\n",
       ">>> plt.ylim([-0.5, 1])\n",
       "(-0.5, 1)\n",
       ">>> plt.show()\n",
       "\u001b[0;31mClass docstring:\u001b[0m\n",
       "Class to wrap functions with checks for __array_function__ overrides.\n",
       "\n",
       "All arguments are required, and can only be passed by position.\n",
       "\n",
       "Parameters\n",
       "----------\n",
       "dispatcher : function or None\n",
       "    The dispatcher function that returns a single sequence-like object\n",
       "    of all arguments relevant.  It must have the same signature (except\n",
       "    the default values) as the actual implementation.\n",
       "    If ``None``, this is a ``like=`` dispatcher and the\n",
       "    ``_ArrayFunctionDispatcher`` must be called with ``like`` as the\n",
       "    first (additional and positional) argument.\n",
       "implementation : function\n",
       "    Function that implements the operation on NumPy arrays without\n",
       "    overrides.  Arguments passed calling the ``_ArrayFunctionDispatcher``\n",
       "    will be forwarded to this (and the ``dispatcher``) as if using\n",
       "    ``*args, **kwargs``.\n",
       "\n",
       "Attributes\n",
       "----------\n",
       "_implementation : function\n",
       "    The original implementation passed in."
      ]
     },
     "metadata": {},
     "output_type": "display_data"
    }
   ],
   "source": [
    "np.linspace?"
   ]
  },
  {
   "cell_type": "markdown",
   "id": "94142333",
   "metadata": {},
   "source": [
    "##### Example 2: scatter plot\n",
    "\n",
    "Assume we have data of grades obtained by 10 students and the number of hours spent on assignments per week.  "
   ]
  },
  {
   "cell_type": "code",
   "execution_count": 16,
   "id": "2d6e3035",
   "metadata": {},
   "outputs": [
    {
     "name": "stdout",
     "output_type": "stream",
     "text": [
      "(16, 2)\n"
     ]
    }
   ],
   "source": [
    "data = np.array([[80, 3],\n",
    "                 [71, 4],\n",
    "                 [95, 6],\n",
    "                 [62, 1],\n",
    "                 [68, 0],\n",
    "                 [100, 5],\n",
    "                 [95, 7],\n",
    "                 [95, 5],\n",
    "                 [83, 3],\n",
    "                 [71, 2],\n",
    "                 [80, 3],\n",
    "                 [82, 2],\n",
    "                 [80, 5],\n",
    "                 [80, 4],\n",
    "                 [86, 6],\n",
    "                 [84, 8]])\n",
    "\n",
    "print(data.shape)"
   ]
  },
  {
   "cell_type": "markdown",
   "id": "512c33a1",
   "metadata": {},
   "source": [
    "We visualize these data points as 2D coordinates, each student represented by a dot. To do so we call the `scatter` function of matplotlib."
   ]
  },
  {
   "cell_type": "code",
   "execution_count": 17,
   "id": "6379e91a",
   "metadata": {},
   "outputs": [
    {
     "data": {
      "image/png": "[encoded data removed]",
      "text/plain": [
       "<Figure size 400x400 with 1 Axes>"
      ]
     },
     "metadata": {},
     "output_type": "display_data"
    }
   ],
   "source": [
    "plt.figure(figsize=(4, 4))\n",
    "plt.scatter(data[:, 0], data[:, 1])\n",
    "plt.grid(True)\n",
    "plt.xlabel(\"Grade\")\n",
    "plt.ylabel(\"Hours / week\")\n",
    "plt.show()"
   ]
  },
  {
   "cell_type": "code",
   "execution_count": null,
   "id": "4d3165cf",
   "metadata": {},
   "outputs": [],
   "source": []
  }
 ],
 "metadata": {
  "kernelspec": {
   "display_name": "Python 3 (ipykernel)",
   "language": "python",
   "name": "python3"
  },
  "language_info": {
   "codemirror_mode": {
    "name": "ipython",
    "version": 3
   },
   "file_extension": ".py",
   "mimetype": "text/x-python",
   "name": "python",
   "nbconvert_exporter": "python",
   "pygments_lexer": "ipython3",
   "version": "3.11.5"
  }
 },
 "nbformat": 4,
 "nbformat_minor": 5
}
